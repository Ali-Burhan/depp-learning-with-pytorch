{
 "cells": [
  {
   "cell_type": "code",
   "execution_count": 2,
   "metadata": {},
   "outputs": [],
   "source": [
    "import torch\n",
    "import torch.nn as nn\n",
    "import torch.optim as optim\n",
    "from torch.utils.data import DataLoader, TensorDataset\n",
    "from sklearn.datasets import load_iris\n",
    "from sklearn.model_selection import train_test_split\n",
    "from sklearn.preprocessing import StandardScaler"
   ]
  },
  {
   "cell_type": "code",
   "execution_count": 3,
   "metadata": {},
   "outputs": [],
   "source": [
    "# Load dataset\n",
    "iris = load_iris()\n",
    "X = iris.data  # Features\n",
    "y = iris.target  # Target classes (0, 1, 2)\n",
    "\n",
    "# Train-test split\n",
    "X_train, X_test, y_train, y_test = train_test_split(X, y, test_size=0.2, random_state=42)\n",
    "\n",
    "# Standardize the features\n",
    "scaler = StandardScaler()\n",
    "X_train = scaler.fit_transform(X_train)\n",
    "X_test = scaler.transform(X_test)\n",
    "\n",
    "# Convert to PyTorch tensors\n",
    "X_train_tensor = torch.tensor(X_train, dtype=torch.float32)\n",
    "y_train_tensor = torch.tensor(y_train, dtype=torch.long)  # Use long for multi-class\n",
    "X_test_tensor = torch.tensor(X_test, dtype=torch.float32)\n",
    "y_test_tensor = torch.tensor(y_test, dtype=torch.long)\n",
    "\n",
    "# Create DataLoader for batching\n",
    "train_dataset = TensorDataset(X_train_tensor, y_train_tensor)\n",
    "test_dataset = TensorDataset(X_test_tensor, y_test_tensor)\n",
    "\n",
    "train_loader = DataLoader(train_dataset, batch_size=16, shuffle=True)\n",
    "test_loader = DataLoader(test_dataset, batch_size=16, shuffle=False)\n"
   ]
  },
  {
   "cell_type": "code",
   "execution_count": 4,
   "metadata": {},
   "outputs": [],
   "source": [
    "class AdvancedANN(nn.Module):\n",
    "    def __init__(self, input_size, hidden_size, output_size):\n",
    "        super(AdvancedANN, self).__init__()\n",
    "        self.fc1 = nn.Linear(input_size, hidden_size)\n",
    "        self.bn1 = nn.BatchNorm1d(hidden_size)  # Batch normalization\n",
    "        self.relu = nn.ReLU()\n",
    "        self.dropout = nn.Dropout(0.3)  # Dropout to prevent overfitting\n",
    "        self.fc2 = nn.Linear(hidden_size, output_size)\n",
    "\n",
    "    def forward(self, x):\n",
    "        x = self.fc1(x)\n",
    "        x = self.bn1(x)\n",
    "        x = self.relu(x)\n",
    "        x = self.dropout(x)\n",
    "        x = self.fc2(x)\n",
    "        return x\n"
   ]
  },
  {
   "cell_type": "code",
   "execution_count": 5,
   "metadata": {},
   "outputs": [],
   "source": [
    "input_size = X.shape[1]\n",
    "hidden_size = 64\n",
    "output_size = len(set(y))  # Number of classes\n",
    "\n",
    "model = AdvancedANN(input_size, hidden_size, output_size)\n",
    "\n",
    "# Move model to GPU if available\n",
    "device = torch.device(\"cuda\" if torch.cuda.is_available() else \"cpu\")\n",
    "model.to(device)\n",
    "\n",
    "criterion = nn.CrossEntropyLoss()  # Suitable for multi-class classification\n",
    "optimizer = optim.Adam(model.parameters(), lr=0.01)\n"
   ]
  },
  {
   "cell_type": "code",
   "execution_count": 6,
   "metadata": {},
   "outputs": [
    {
     "name": "stdout",
     "output_type": "stream",
     "text": [
      "Epoch 1/50, Loss: 5.5176, Validation Accuracy: 0.8667\n",
      "Epoch 2/50, Loss: 3.4080, Validation Accuracy: 0.8333\n",
      "Epoch 3/50, Loss: 2.7415, Validation Accuracy: 0.9333\n",
      "Epoch 4/50, Loss: 2.6987, Validation Accuracy: 0.9333\n",
      "Epoch 5/50, Loss: 2.1589, Validation Accuracy: 0.9333\n",
      "Epoch 6/50, Loss: 2.2098, Validation Accuracy: 0.9333\n",
      "Epoch 7/50, Loss: 1.9831, Validation Accuracy: 0.9333\n",
      "Epoch 8/50, Loss: 2.0813, Validation Accuracy: 0.9333\n",
      "Epoch 9/50, Loss: 3.0610, Validation Accuracy: 0.9333\n",
      "Epoch 10/50, Loss: 3.4105, Validation Accuracy: 0.9667\n",
      "Epoch 11/50, Loss: 1.9262, Validation Accuracy: 1.0000\n",
      "Epoch 12/50, Loss: 2.8145, Validation Accuracy: 0.9333\n",
      "Epoch 13/50, Loss: 1.5797, Validation Accuracy: 0.9667\n",
      "Epoch 14/50, Loss: 2.1260, Validation Accuracy: 0.9667\n",
      "Epoch 15/50, Loss: 1.8057, Validation Accuracy: 0.9667\n",
      "Epoch 16/50, Loss: 4.6925, Validation Accuracy: 0.9667\n",
      "Epoch 17/50, Loss: 2.3212, Validation Accuracy: 0.9667\n",
      "Epoch 18/50, Loss: 2.0916, Validation Accuracy: 0.9667\n",
      "Epoch 19/50, Loss: 1.9300, Validation Accuracy: 0.9667\n",
      "Epoch 20/50, Loss: 1.7793, Validation Accuracy: 1.0000\n",
      "Epoch 21/50, Loss: 1.6474, Validation Accuracy: 0.9667\n",
      "Epoch 22/50, Loss: 2.8103, Validation Accuracy: 0.9667\n",
      "Epoch 23/50, Loss: 2.2037, Validation Accuracy: 1.0000\n",
      "Epoch 24/50, Loss: 1.6630, Validation Accuracy: 1.0000\n",
      "Epoch 25/50, Loss: 2.3546, Validation Accuracy: 1.0000\n",
      "Epoch 26/50, Loss: 1.6200, Validation Accuracy: 1.0000\n",
      "Epoch 27/50, Loss: 2.3957, Validation Accuracy: 1.0000\n",
      "Epoch 28/50, Loss: 1.7267, Validation Accuracy: 1.0000\n",
      "Epoch 29/50, Loss: 2.3300, Validation Accuracy: 1.0000\n",
      "Epoch 30/50, Loss: 2.0299, Validation Accuracy: 1.0000\n",
      "Epoch 31/50, Loss: 1.7688, Validation Accuracy: 1.0000\n",
      "Epoch 32/50, Loss: 2.3907, Validation Accuracy: 1.0000\n",
      "Epoch 33/50, Loss: 2.7749, Validation Accuracy: 1.0000\n",
      "Epoch 34/50, Loss: 1.6521, Validation Accuracy: 0.9667\n",
      "Epoch 35/50, Loss: 1.2237, Validation Accuracy: 1.0000\n",
      "Epoch 36/50, Loss: 2.2690, Validation Accuracy: 1.0000\n",
      "Epoch 37/50, Loss: 1.9959, Validation Accuracy: 1.0000\n",
      "Epoch 38/50, Loss: 2.5712, Validation Accuracy: 1.0000\n",
      "Epoch 39/50, Loss: 1.6994, Validation Accuracy: 1.0000\n",
      "Epoch 40/50, Loss: 1.6083, Validation Accuracy: 1.0000\n",
      "Epoch 41/50, Loss: 1.5266, Validation Accuracy: 1.0000\n",
      "Epoch 42/50, Loss: 2.1235, Validation Accuracy: 1.0000\n",
      "Epoch 43/50, Loss: 1.7674, Validation Accuracy: 1.0000\n",
      "Epoch 44/50, Loss: 1.3695, Validation Accuracy: 1.0000\n",
      "Epoch 45/50, Loss: 2.0145, Validation Accuracy: 1.0000\n",
      "Epoch 46/50, Loss: 1.4342, Validation Accuracy: 1.0000\n",
      "Epoch 47/50, Loss: 2.3286, Validation Accuracy: 1.0000\n",
      "Epoch 48/50, Loss: 1.0643, Validation Accuracy: 1.0000\n",
      "Epoch 49/50, Loss: 1.0727, Validation Accuracy: 1.0000\n",
      "Epoch 50/50, Loss: 1.6349, Validation Accuracy: 1.0000\n"
     ]
    }
   ],
   "source": [
    "num_epochs = 50\n",
    "\n",
    "for epoch in range(num_epochs):\n",
    "    model.train()  # Set model to training mode\n",
    "    epoch_loss = 0\n",
    "\n",
    "    for batch_X, batch_y in train_loader:\n",
    "        batch_X, batch_y = batch_X.to(device), batch_y.to(device)\n",
    "\n",
    "        # Forward pass\n",
    "        outputs = model(batch_X)\n",
    "        loss = criterion(outputs, batch_y)\n",
    "\n",
    "        # Backward pass and optimization\n",
    "        optimizer.zero_grad()\n",
    "        loss.backward()\n",
    "        optimizer.step()\n",
    "\n",
    "        epoch_loss += loss.item()\n",
    "\n",
    "    # Validation\n",
    "    model.eval()  # Set model to evaluation mode\n",
    "    correct = 0\n",
    "    total = 0\n",
    "    with torch.no_grad():\n",
    "        for batch_X, batch_y in test_loader:\n",
    "            batch_X, batch_y = batch_X.to(device), batch_y.to(device)\n",
    "            outputs = model(batch_X)\n",
    "            _, predicted = torch.max(outputs, 1)  # Predicted class\n",
    "            total += batch_y.size(0)\n",
    "            correct += (predicted == batch_y).sum().item()\n",
    "\n",
    "    accuracy = correct / total\n",
    "    print(f\"Epoch {epoch+1}/{num_epochs}, Loss: {epoch_loss:.4f}, Validation Accuracy: {accuracy:.4f}\")\n"
   ]
  },
  {
   "cell_type": "code",
   "execution_count": 16,
   "metadata": {},
   "outputs": [
    {
     "name": "stdout",
     "output_type": "stream",
     "text": [
      "Predicted Class: 1, Actual Class: 1\n"
     ]
    }
   ],
   "source": [
    "# Test a single sample\n",
    "sample = torch.tensor([X_test[4]], dtype=torch.float32).to(device)\n",
    "model.eval()\n",
    "with torch.no_grad():\n",
    "    output = model(sample)\n",
    "    _, prediction = torch.max(output, 1)\n",
    "    print(f\"Predicted Class: {prediction.item()}, Actual Class: {y_test[0]}\")\n"
   ]
  }
 ],
 "metadata": {
  "kernelspec": {
   "display_name": "Python 3",
   "language": "python",
   "name": "python3"
  },
  "language_info": {
   "codemirror_mode": {
    "name": "ipython",
    "version": 3
   },
   "file_extension": ".py",
   "mimetype": "text/x-python",
   "name": "python",
   "nbconvert_exporter": "python",
   "pygments_lexer": "ipython3",
   "version": "3.12.6"
  }
 },
 "nbformat": 4,
 "nbformat_minor": 2
}
