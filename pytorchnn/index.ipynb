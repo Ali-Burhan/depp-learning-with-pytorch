{
 "cells": [
  {
   "cell_type": "code",
   "execution_count": 1,
   "metadata": {},
   "outputs": [],
   "source": [
    "import torch\n",
    "import torch.nn as nn\n",
    "import torch.optim as optim"
   ]
  },
  {
   "cell_type": "code",
   "execution_count": 8,
   "metadata": {},
   "outputs": [],
   "source": [
    "class SimpleNN(nn.Module):\n",
    "    def __init__(self, input_size, hidden_size, output_size):\n",
    "        super().__init__()\n",
    "        self.network = nn.Sequential(\n",
    "        nn.Linear(input_size, hidden_size),\n",
    "        nn.ReLU(),\n",
    "        nn.Linear(hidden_size, output_size),\n",
    "        nn.Sigmoid()\n",
    "        )\n",
    "\n",
    "    def forward(self, x):\n",
    "        x = self.network(x)\n",
    "        # x = self.fc1(x)\n",
    "        # x = self.relu(x)\n",
    "        # x = self.fc2(x)\n",
    "        # x = self.sigmoid(x)\n",
    "        return x\n"
   ]
  },
  {
   "cell_type": "code",
   "execution_count": 6,
   "metadata": {},
   "outputs": [],
   "source": [
    "inputs = torch.rand(100, 3)\n",
    "targets1 = torch.ones(100, 1)\n",
    "targets2 = torch.zeros(100, 1)"
   ]
  },
  {
   "cell_type": "code",
   "execution_count": 19,
   "metadata": {},
   "outputs": [
    {
     "name": "stdout",
     "output_type": "stream",
     "text": [
      "Epoch [10/100], Loss: 0.5497\n",
      "Epoch [20/100], Loss: 0.5296\n",
      "Epoch [30/100], Loss: 0.5103\n",
      "Epoch [40/100], Loss: 0.4917\n",
      "Epoch [50/100], Loss: 0.4737\n",
      "Epoch [60/100], Loss: 0.4563\n",
      "Epoch [70/100], Loss: 0.4396\n",
      "Epoch [80/100], Loss: 0.4235\n",
      "Epoch [90/100], Loss: 0.4078\n",
      "Epoch [100/100], Loss: 0.3926\n"
     ]
    }
   ],
   "source": [
    "learning_rate = 0.01\n",
    "input_size = 3\n",
    "hidden_size = 2\n",
    "output_size = 1\n",
    "epochs = 100\n",
    "\n",
    "\n",
    "model = SimpleNN(input_size, hidden_size, output_size)\n",
    "criterion = nn.BCELoss()\n",
    "optimizer = optim.SGD(model.parameters(), lr=learning_rate)\n",
    "\n",
    "for epoch in range(epochs):\n",
    "    # Forward pass\n",
    "    outputs = model(inputs)\n",
    "    loss = criterion(outputs, targets1+targets2)\n",
    "\n",
    "    # Backward and optimize\n",
    "    optimizer.zero_grad()\n",
    "    loss.backward()\n",
    "    optimizer.step()\n",
    "\n",
    "    if (epoch+1) % 10 == 0:\n",
    "        print ('Epoch [{}/{}], Loss: {:.4f}'.format(epoch+1, epochs, loss.item()))"
   ]
  },
  {
   "cell_type": "code",
   "execution_count": 20,
   "metadata": {},
   "outputs": [
    {
     "name": "stderr",
     "output_type": "stream",
     "text": [
      "c:\\Users\\Ali Burhan\\AppData\\Local\\Programs\\Python\\Python312\\Lib\\site-packages\\sklearn\\preprocessing\\_label.py:114: DataConversionWarning: A column-vector y was passed when a 1d array was expected. Please change the shape of y to (n_samples, ), for example using ravel().\n",
      "  y = column_or_1d(y, warn=True)\n",
      "c:\\Users\\Ali Burhan\\AppData\\Local\\Programs\\Python\\Python312\\Lib\\site-packages\\sklearn\\preprocessing\\_label.py:132: DataConversionWarning: A column-vector y was passed when a 1d array was expected. Please change the shape of y to (n_samples, ), for example using ravel().\n",
      "  y = column_or_1d(y, dtype=self.classes_.dtype, warn=True)\n"
     ]
    }
   ],
   "source": [
    "import numpy as np\n",
    "import pandas as pd\n",
    "from sklearn.model_selection import train_test_split\n",
    "from sklearn.preprocessing import StandardScaler\n",
    "from sklearn.preprocessing import LabelEncoder\n",
    "from sklearn import datasets\n",
    "\n",
    "\n",
    "data = datasets.load_breast_cancer()\n",
    "\n",
    "\n",
    "x,y = data.data, data.target\n",
    "dfdata = pd.DataFrame(x)\n",
    "dflabels = pd.DataFrame(y)\n",
    "\n",
    "X_train, X_test, y_train, y_test = train_test_split(dfdata, dflabels, test_size=0.2)\n",
    "\n",
    "\n",
    "scaler = StandardScaler()\n",
    "X_train = scaler.fit_transform(X_train)\n",
    "X_test = scaler.transform(X_test)\n",
    "\n",
    "\n",
    "lableencoder = LabelEncoder()\n",
    "y_train = lableencoder.fit_transform(y_train)\n",
    "y_test = lableencoder.transform(y_test)\n",
    "\n",
    "\n",
    "x_train_tensor = torch.tensor(X_train,dtype=torch.float32)\n",
    "y_train_tensor = torch.tensor(y_train,dtype=torch.float32)\n",
    "x_test_tensor = torch.tensor(X_test,dtype=torch.float32)\n",
    "y_test_tensor = torch.tensor(y_test,dtype=torch.float32)"
   ]
  },
  {
   "cell_type": "code",
   "execution_count": 25,
   "metadata": {},
   "outputs": [
    {
     "name": "stdout",
     "output_type": "stream",
     "text": [
      "Epoch [10/500], Loss: 0.6428\n",
      "Epoch [20/500], Loss: 0.6129\n",
      "Epoch [30/500], Loss: 0.5851\n",
      "Epoch [40/500], Loss: 0.5591\n",
      "Epoch [50/500], Loss: 0.5346\n",
      "Epoch [60/500], Loss: 0.5113\n",
      "Epoch [70/500], Loss: 0.4890\n",
      "Epoch [80/500], Loss: 0.4679\n",
      "Epoch [90/500], Loss: 0.4479\n",
      "Epoch [100/500], Loss: 0.4288\n",
      "Epoch [110/500], Loss: 0.4108\n",
      "Epoch [120/500], Loss: 0.3937\n",
      "Epoch [130/500], Loss: 0.3776\n",
      "Epoch [140/500], Loss: 0.3625\n",
      "Epoch [150/500], Loss: 0.3483\n",
      "Epoch [160/500], Loss: 0.3351\n",
      "Epoch [170/500], Loss: 0.3227\n",
      "Epoch [180/500], Loss: 0.3110\n",
      "Epoch [190/500], Loss: 0.3002\n",
      "Epoch [200/500], Loss: 0.2901\n",
      "Epoch [210/500], Loss: 0.2806\n",
      "Epoch [220/500], Loss: 0.2719\n",
      "Epoch [230/500], Loss: 0.2636\n",
      "Epoch [240/500], Loss: 0.2559\n",
      "Epoch [250/500], Loss: 0.2487\n",
      "Epoch [260/500], Loss: 0.2420\n",
      "Epoch [270/500], Loss: 0.2357\n",
      "Epoch [280/500], Loss: 0.2297\n",
      "Epoch [290/500], Loss: 0.2241\n",
      "Epoch [300/500], Loss: 0.2188\n",
      "Epoch [310/500], Loss: 0.2139\n",
      "Epoch [320/500], Loss: 0.2091\n",
      "Epoch [330/500], Loss: 0.2047\n",
      "Epoch [340/500], Loss: 0.2004\n",
      "Epoch [350/500], Loss: 0.1964\n",
      "Epoch [360/500], Loss: 0.1926\n",
      "Epoch [370/500], Loss: 0.1890\n",
      "Epoch [380/500], Loss: 0.1855\n",
      "Epoch [390/500], Loss: 0.1822\n",
      "Epoch [400/500], Loss: 0.1791\n",
      "Epoch [410/500], Loss: 0.1761\n",
      "Epoch [420/500], Loss: 0.1732\n",
      "Epoch [430/500], Loss: 0.1704\n",
      "Epoch [440/500], Loss: 0.1677\n",
      "Epoch [450/500], Loss: 0.1652\n",
      "Epoch [460/500], Loss: 0.1627\n",
      "Epoch [470/500], Loss: 0.1603\n",
      "Epoch [480/500], Loss: 0.1580\n",
      "Epoch [490/500], Loss: 0.1556\n",
      "Epoch [500/500], Loss: 0.1534\n"
     ]
    }
   ],
   "source": [
    "learning_rate = 0.01\n",
    "input_size = x_train_tensor.shape[1]\n",
    "hidden_size = 15\n",
    "output_size = 1\n",
    "epochs = 500\n",
    "\n",
    "\n",
    "model = SimpleNN(input_size, hidden_size, output_size)\n",
    "criterion = nn.BCELoss()\n",
    "optimizer = optim.SGD(model.parameters(), lr=learning_rate)\n",
    "\n",
    "for epoch in range(epochs):\n",
    "    # Forward pass\n",
    "    outputs = model(x_train_tensor)\n",
    "    loss = criterion(outputs, y_train_tensor.view(-1,1))\n",
    "\n",
    "    # Backward and optimize\n",
    "    optimizer.zero_grad()\n",
    "    loss.backward()\n",
    "    optimizer.step()\n",
    "\n",
    "    if (epoch+1) % 10 == 0:\n",
    "        print ('Epoch [{}/{}], Loss: {:.4f}'.format(epoch+1, epochs, loss.item()))"
   ]
  },
  {
   "cell_type": "code",
   "execution_count": 29,
   "metadata": {},
   "outputs": [
    {
     "name": "stdout",
     "output_type": "stream",
     "text": [
      "Test Accuracy: 0.5614\n"
     ]
    }
   ],
   "source": [
    "# Evaluate\n",
    "model.eval()\n",
    "predicted = model(x_test_tensor).detach().numpy()\n",
    "predicted_class = (predicted > 0.5).astype(int)\n",
    "accuracy = np.mean(predicted_class == y_test)\n",
    "print(f\"Test Accuracy: {accuracy:.4f}\")"
   ]
  }
 ],
 "metadata": {
  "kernelspec": {
   "display_name": "Python 3",
   "language": "python",
   "name": "python3"
  },
  "language_info": {
   "codemirror_mode": {
    "name": "ipython",
    "version": 3
   },
   "file_extension": ".py",
   "mimetype": "text/x-python",
   "name": "python",
   "nbconvert_exporter": "python",
   "pygments_lexer": "ipython3",
   "version": "3.12.6"
  }
 },
 "nbformat": 4,
 "nbformat_minor": 2
}
