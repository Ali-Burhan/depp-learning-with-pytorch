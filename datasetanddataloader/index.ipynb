{
 "cells": [
  {
   "cell_type": "code",
   "execution_count": 1,
   "metadata": {},
   "outputs": [],
   "source": [
    "from sklearn.datasets import make_classification\n",
    "import torch"
   ]
  },
  {
   "cell_type": "code",
   "execution_count": 2,
   "metadata": {},
   "outputs": [],
   "source": [
    "x,y = make_classification(\n",
    "    n_samples=500,\n",
    "    n_features=10,\n",
    "    n_informative=2,\n",
    "    n_redundant=0,\n",
    "    n_classes=2,\n",
    "    random_state=42\n",
    ")"
   ]
  },
  {
   "cell_type": "code",
   "execution_count": 49,
   "metadata": {},
   "outputs": [
    {
     "data": {
      "text/plain": [
       "(500, 10)"
      ]
     },
     "execution_count": 49,
     "metadata": {},
     "output_type": "execute_result"
    }
   ],
   "source": [
    "x.shape"
   ]
  },
  {
   "cell_type": "code",
   "execution_count": 3,
   "metadata": {},
   "outputs": [],
   "source": [
    "x,y = torch.tensor(x,dtype=torch.float32), torch.tensor(y,dtype=torch.float32)  "
   ]
  },
  {
   "cell_type": "code",
   "execution_count": 51,
   "metadata": {},
   "outputs": [
    {
     "data": {
      "text/plain": [
       "torch.float32"
      ]
     },
     "execution_count": 51,
     "metadata": {},
     "output_type": "execute_result"
    }
   ],
   "source": [
    "y.dtype"
   ]
  },
  {
   "cell_type": "code",
   "execution_count": 4,
   "metadata": {},
   "outputs": [],
   "source": [
    "from torch.utils.data import Dataset, DataLoader"
   ]
  },
  {
   "cell_type": "code",
   "execution_count": 5,
   "metadata": {},
   "outputs": [],
   "source": [
    "class CustomDataset(Dataset):\n",
    "    def __init__(self,feature,lable):\n",
    "        super().__init__()\n",
    "        self.feature = feature\n",
    "        self.lable = lable\n",
    "    def __len__(self):\n",
    "        return len(self.feature)\n",
    "    def __getitem__(self,index):\n",
    "        return self.feature[index],self.lable[index]\n",
    "    \n",
    "dataset = CustomDataset(x,y)\n",
    "\n",
    "dataloader = DataLoader(dataset,batch_size=32,shuffle=True)\n"
   ]
  },
  {
   "cell_type": "code",
   "execution_count": 6,
   "metadata": {},
   "outputs": [
    {
     "name": "stdout",
     "output_type": "stream",
     "text": [
      "tensor([ 1.5193, -0.6578,  0.8902,  0.5108,  1.5279, -0.6589, -1.0919, -0.9078,\n",
      "         0.8545,  1.0306])\n",
      "tensor([ 0.4754, -0.7718,  0.6360,  0.6325, -0.1551,  2.2144,  0.2275, -0.8524,\n",
      "         1.6095, -0.4742])\n",
      "tensor([-0.8285, -0.1759,  0.2307, -0.1033,  2.6997, -1.2491,  0.0209, -1.6009,\n",
      "         1.6615, -1.6432])\n",
      "tensor([-1.4056, -0.0791,  0.6962, -0.9850, -0.6486,  2.4316, -0.4808,  0.0226,\n",
      "        -0.5791,  0.1987])\n",
      "tensor([ 7.0149e-01,  1.6190e-03, -2.8509e-01,  5.1887e-01, -1.6480e+00,\n",
      "         3.3114e+00,  1.6043e+00, -1.3650e+00,  4.1477e-01,  4.9581e-01])\n",
      "tensor([ 0.6452, -0.1973,  1.1338,  0.5556, -0.1246, -0.3273, -0.1949,  0.5211,\n",
      "        -0.1513,  0.0896])\n",
      "tensor([ 0.7190, -1.4218, -0.2508,  0.9960, -1.1009, -1.0674, -0.3227,  1.1857,\n",
      "         1.5013, -0.7568])\n",
      "tensor([ 0.0723,  1.3511,  0.2431, -1.5002,  2.1662, -0.0198, -0.0626, -0.1322,\n",
      "         0.8862, -0.7788])\n",
      "tensor([ 0.2392, -2.5303,  1.9583,  2.0741, -0.1537, -0.3389,  1.1010, -1.0727,\n",
      "        -0.2860, -0.9194])\n",
      "tensor([-0.1217, -1.0242,  0.5821,  1.5134, -0.4505, -0.4958,  1.2210, -0.0827,\n",
      "         1.8541,  0.6308])\n",
      "tensor([ 2.7597, -0.0256, -0.4093,  0.3924,  2.0468, -1.5528, -0.6947,  1.0602,\n",
      "        -1.7691, -0.5090])\n",
      "tensor([-0.7667, -0.3871, -1.9197, -0.5496,  1.0214, -0.3988,  0.0254,  1.9925,\n",
      "        -0.0454,  0.8596])\n",
      "tensor([-0.7992,  0.1227, -0.2524, -0.4827, -1.2901, -1.2661,  0.3231, -0.6460,\n",
      "         1.6247, -0.9533])\n",
      "tensor([ 1.8877,  0.4860, -0.4711,  0.5566,  0.1219,  1.0594,  1.0827, -0.4136,\n",
      "        -1.5473, -1.3355])\n",
      "tensor([ 1.8999,  1.1071,  0.8474, -0.1326, -0.8772, -0.9583, -2.1727,  0.6726,\n",
      "        -0.1204, -0.9745])\n",
      "tensor([ 0.9343, -1.1701,  0.7592, -1.3669, -0.5678, -0.5992,  0.5415, -2.5539,\n",
      "        -1.8020, -0.2248])\n"
     ]
    }
   ],
   "source": [
    "for dat,lable in dataloader:\n",
    "    print(dat[1])"
   ]
  },
  {
   "cell_type": "code",
   "execution_count": 7,
   "metadata": {},
   "outputs": [
    {
     "name": "stdout",
     "output_type": "stream",
     "text": [
      "Epoch [10/100], Loss: 0.2806\n",
      "Epoch [20/100], Loss: 0.1421\n",
      "Epoch [30/100], Loss: 0.3765\n",
      "Epoch [40/100], Loss: 0.0873\n",
      "Epoch [50/100], Loss: 0.1250\n",
      "Epoch [60/100], Loss: 0.2743\n",
      "Epoch [70/100], Loss: 0.2984\n",
      "Epoch [80/100], Loss: 0.3485\n",
      "Epoch [90/100], Loss: 0.0400\n",
      "Epoch [100/100], Loss: 0.1440\n"
     ]
    }
   ],
   "source": [
    "import torch.nn as nn\n",
    "import torch.optim as optim\n",
    "\n",
    "class SimpleNN(nn.Module):\n",
    "    def __init__(self,input_layer,hidden_layer,output_layer):\n",
    "        super().__init__()\n",
    "        self.network = nn.Sequential(\n",
    "            nn.Linear(input_layer,hidden_layer),\n",
    "            nn.ReLU(),\n",
    "            nn.Linear(hidden_layer,output_layer),\n",
    "            nn.Sigmoid()\n",
    "        )\n",
    "    def forward(self,x):\n",
    "        return self.network(x)\n",
    "\n",
    "model = SimpleNN(10,15,1)\n",
    "criterion = nn.BCELoss()\n",
    "optimizer = optim.Adam(model.parameters(),lr=0.01)\n",
    "\n",
    "for epoch in range(100):\n",
    "    for x,y in dataloader:\n",
    "        yhat = model(x)\n",
    "        loss = criterion(yhat,y.view(-1,1))\n",
    "        optimizer.zero_grad()\n",
    "        loss.backward()\n",
    "        optimizer.step()\n",
    "    if (epoch+1) % 10 == 0:\n",
    "        print(f\"Epoch [{epoch+1}/100], Loss: {loss.item():.4f}\") "
   ]
  },
  {
   "cell_type": "code",
   "execution_count": 8,
   "metadata": {},
   "outputs": [
    {
     "name": "stdout",
     "output_type": "stream",
     "text": [
      "Accuracy 0.9676\n"
     ]
    }
   ],
   "source": [
    "model.eval()\n",
    "accuracy_list = []\n",
    "with torch.no_grad():\n",
    "    for x,y in dataloader:\n",
    "        ypred = model(x)\n",
    "        ypred = (ypred > 0.8).float()\n",
    "        batch_Acc = (ypred.view(-1) == y).float().mean().item()\n",
    "        accuracy_list.append(batch_Acc)\n",
    "overall_Acc = sum(accuracy_list)/len(accuracy_list)\n",
    "print(f\"Accuracy {overall_Acc:.4f}\")"
   ]
  }
 ],
 "metadata": {
  "kernelspec": {
   "display_name": "Python 3",
   "language": "python",
   "name": "python3"
  },
  "language_info": {
   "codemirror_mode": {
    "name": "ipython",
    "version": 3
   },
   "file_extension": ".py",
   "mimetype": "text/x-python",
   "name": "python",
   "nbconvert_exporter": "python",
   "pygments_lexer": "ipython3",
   "version": "3.12.6"
  }
 },
 "nbformat": 4,
 "nbformat_minor": 2
}
